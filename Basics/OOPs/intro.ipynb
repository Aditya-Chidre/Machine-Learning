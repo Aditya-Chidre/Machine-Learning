{
 "cells": [
  {
   "cell_type": "code",
   "execution_count": 2,
   "metadata": {},
   "outputs": [
    {
     "name": "stdout",
     "output_type": "stream",
     "text": [
      "This is drivable\n",
      "<__main__.Car object at 0x000001B2CFF2B3D0>\n"
     ]
    }
   ],
   "source": [
    "class Car:\n",
    "    def __init__(self,windows,doors):\n",
    "        self.windows=windows\n",
    "        self.doors=doors\n",
    "    \n",
    "    def drive(self):\n",
    "        return f\"This is drivable\"\n",
    "\n",
    "car=Car(4,4)\n",
    "print(car.drive())\n",
    "print(car)"
   ]
  },
  {
   "cell_type": "markdown",
   "metadata": {},
   "source": [
    "### Inheritance "
   ]
  },
  {
   "cell_type": "code",
   "execution_count": 7,
   "metadata": {},
   "outputs": [
    {
     "name": "stdout",
     "output_type": "stream",
     "text": [
      "This is drivable\n",
      "This is drivable A6\n"
     ]
    }
   ],
   "source": [
    "class audi(Car):\n",
    "    def __init__(self, windows, doors, name):\n",
    "        self.name=name\n",
    "        super().__init__(windows, doors)\n",
    "    def drive1(self):\n",
    "        return f\"This is drivable {self.name}\"\n",
    "    def drive(self):\n",
    "        return super().drive()\n",
    "A6=audi(4,4,\"A6\")\n",
    "print(A6.drive())\n",
    "print(A6.drive1())"
   ]
  },
  {
   "cell_type": "markdown",
   "metadata": {},
   "source": [
    "### Polymorphism"
   ]
  },
  {
   "cell_type": "code",
   "execution_count": 11,
   "metadata": {},
   "outputs": [
    {
     "name": "stdout",
     "output_type": "stream",
     "text": [
      "Meow !\n",
      "Woof !\n",
      "Animal can speak\n"
     ]
    }
   ],
   "source": [
    "class Animal:\n",
    "    def speak(self):\n",
    "        return \"Animal can speak\"\n",
    "    \n",
    "class Cat(Animal):\n",
    "    def speak(self):\n",
    "        return \"Meow !\"\n",
    "\n",
    "class Dog(Animal):\n",
    "    def speak(self):\n",
    "        return \"Woof !\"\n",
    "    \n",
    "cat=Cat()\n",
    "dog=Dog()\n",
    "mice=Animal()\n",
    "print(cat.speak())\n",
    "print(dog.speak())\n",
    "print(mice.speak())"
   ]
  },
  {
   "cell_type": "markdown",
   "metadata": {},
   "source": [
    "### Encapsulation"
   ]
  },
  {
   "cell_type": "code",
   "execution_count": 12,
   "metadata": {},
   "outputs": [],
   "source": [
    "# Data access modifier\n",
    "class Person:\n",
    "    def __init__(self,name,age):\n",
    "        self.name=name            # Public variable can be accessed anywhere                         \n",
    "        self.age=age\n",
    "\n",
    "class Person:\n",
    "    def __init__(self,name,age):\n",
    "        self._name=name            # Protected variable can be accessed in a same class and only derived classes                         \n",
    "        self._age=age\n",
    "    \n",
    "    def print_name(self):\n",
    "        return f\"The name is {self._name}\"\n",
    "\n",
    "class Employee(Person):\n",
    "    def __init__(self, name, age):\n",
    "        super().__init__(name, age)\n",
    "    \n",
    "\n"
   ]
  },
  {
   "cell_type": "code",
   "execution_count": 13,
   "metadata": {},
   "outputs": [
    {
     "name": "stdout",
     "output_type": "stream",
     "text": [
      "The name is Adi\n",
      "The name is Ashish\n"
     ]
    }
   ],
   "source": [
    "person=Person(\"Adi\",22)\n",
    "employee=Employee(\"Ashish\",23)\n",
    "print(person.print_name())\n",
    "print(employee.print_name())"
   ]
  },
  {
   "cell_type": "code",
   "execution_count": null,
   "metadata": {},
   "outputs": [
    {
     "ename": "AttributeError",
     "evalue": "'Person' object has no attribute '__name'",
     "output_type": "error",
     "traceback": [
      "\u001b[1;31m---------------------------------------------------------------------------\u001b[0m",
      "\u001b[1;31mAttributeError\u001b[0m                            Traceback (most recent call last)",
      "Cell \u001b[1;32mIn[24], line 12\u001b[0m\n\u001b[0;32m      8\u001b[0m person\u001b[38;5;241m=\u001b[39mPerson(\u001b[38;5;124m\"\u001b[39m\u001b[38;5;124mAdi\u001b[39m\u001b[38;5;124m\"\u001b[39m,\u001b[38;5;241m22\u001b[39m)\n\u001b[0;32m      9\u001b[0m employee\u001b[38;5;241m=\u001b[39mEmployee(\u001b[38;5;124m\"\u001b[39m\u001b[38;5;124mAshish\u001b[39m\u001b[38;5;124m\"\u001b[39m,\u001b[38;5;241m23\u001b[39m)\n\u001b[1;32m---> 12\u001b[0m \u001b[38;5;28mprint\u001b[39m(\u001b[43mperson\u001b[49m\u001b[38;5;241;43m.\u001b[39;49m\u001b[43m__name\u001b[49m)\n\u001b[0;32m     14\u001b[0m \u001b[38;5;28mprint\u001b[39m(person\u001b[38;5;241m.\u001b[39mprint_name())\n",
      "\u001b[1;31mAttributeError\u001b[0m: 'Person' object has no attribute '__name'"
     ]
    }
   ],
   "source": [
    "class Person:\n",
    "    def __init__(self,name,age):\n",
    "        self.__name=name        # Private variable only accessed within same class\n",
    "        self.__age=age \n",
    "    def print_name(self):\n",
    "        return f\"The name is {self.__name}\"\n",
    "\n",
    "person=Person(\"Adi\",22)\n",
    "employee=Employee(\"Ashish\",23)\n",
    "\n",
    "\n",
    "print(person.__name)            # Can't access because we are trying to get private variable from outside the class\n",
    "\n"
   ]
  },
  {
   "cell_type": "markdown",
   "metadata": {},
   "source": [
    "## Abstraction"
   ]
  },
  {
   "cell_type": "code",
   "execution_count": 8,
   "metadata": {},
   "outputs": [],
   "source": [
    "from abc import ABC,abstractmethod\n",
    "class Vehicle(ABC):\n",
    "    def __init__(self,name):\n",
    "        self.name=name\n",
    "    \n",
    "    @abstractmethod\n",
    "    def print_details(self):\n",
    "        pass\n",
    "\n",
    "class Car(Vehicle):\n",
    "    def __init__(self, name):\n",
    "        super().__init__(name)\n",
    "    \n",
    "    def print_details(self):\n",
    "        print(\"This is a car\")"
   ]
  },
  {
   "cell_type": "code",
   "execution_count": 9,
   "metadata": {},
   "outputs": [
    {
     "name": "stdout",
     "output_type": "stream",
     "text": [
      "This is a car\n"
     ]
    }
   ],
   "source": [
    "car=Car(\"car\")\n",
    "\n",
    "car.print_details()\n",
    "     "
   ]
  },
  {
   "cell_type": "code",
   "execution_count": 10,
   "metadata": {},
   "outputs": [
    {
     "ename": "TypeError",
     "evalue": "Can't instantiate abstract class Vehicle with abstract method print_details",
     "output_type": "error",
     "traceback": [
      "\u001b[1;31m---------------------------------------------------------------------------\u001b[0m",
      "\u001b[1;31mTypeError\u001b[0m                                 Traceback (most recent call last)",
      "Cell \u001b[1;32mIn[10], line 1\u001b[0m\n\u001b[1;32m----> 1\u001b[0m bus \u001b[38;5;241m=\u001b[39m \u001b[43mVehicle\u001b[49m\u001b[43m(\u001b[49m\u001b[38;5;124;43m\"\u001b[39;49m\u001b[38;5;124;43mvolvo\u001b[39;49m\u001b[38;5;124;43m\"\u001b[39;49m\u001b[43m)\u001b[49m\n\u001b[0;32m      2\u001b[0m bus\u001b[38;5;241m.\u001b[39mprint_details()\n",
      "\u001b[1;31mTypeError\u001b[0m: Can't instantiate abstract class Vehicle with abstract method print_details"
     ]
    }
   ],
   "source": [
    "bus = Vehicle(\"volvo\")\n",
    "bus.print_details()         # It won't instantiate+"
   ]
  },
  {
   "cell_type": "code",
   "execution_count": null,
   "metadata": {},
   "outputs": [],
   "source": []
  }
 ],
 "metadata": {
  "kernelspec": {
   "display_name": "Python 3",
   "language": "python",
   "name": "python3"
  },
  "language_info": {
   "codemirror_mode": {
    "name": "ipython",
    "version": 3
   },
   "file_extension": ".py",
   "mimetype": "text/x-python",
   "name": "python",
   "nbconvert_exporter": "python",
   "pygments_lexer": "ipython3",
   "version": "3.9.5"
  }
 },
 "nbformat": 4,
 "nbformat_minor": 2
}
